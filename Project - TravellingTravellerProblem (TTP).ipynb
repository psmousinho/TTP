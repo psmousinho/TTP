{
 "cells": [
  {
   "cell_type": "markdown",
   "metadata": {},
   "source": [
    "# Menor caminho visitando lugares turísticos\n",
    "\n",
    "Variação do problema do caixeiro viajante, o problema consiste em determinar a ordem de visita dos pontos turísticos, de maneira que se minimize a distância percorrida.\n",
    "\n",
    "Deve-se a partir um ponto qualquer X, visitar todos os outros pontos uma vez e retornar a X.\n",
    "\n",
    "## Sumário\n",
    "\n",
    "- [Preliminares](#Preliminares)\n",
    "- [Pré-processamento](#Pré-processamento)\n",
    "    - [Obtenção de latitude e longitude](#Obtenção-de-latitude-e-longitude)\n",
    "    - [Limpeza de dados](#Limpeza-de-dados)\n",
    "- [Implementando o algoritmo genético](#Implementando-o-algoritmo-genético)\n",
    "    - [Obter matriz de distâncias](#Obter-matriz-de-distâncias)\n",
    "    - [Função fitness](#Função-fitness)\n",
    "    - [Criação de rotas](#Criação-de-rotas)\n",
    "    - [População inicial](#População-inicial)\n",
    "    - [Classificando os indivíduos](#Classificando-os-indivíduos)\n",
    "    - [Seleção dos pais](#Seleção-dos-pais)\n",
    "    - [Cruzamento](#Cruzamento)\n",
    "    - [Mutação](#Mutação)\n",
    "    - [Próxima geração](#Próxima-geração)\n",
    "- [Executando o algoritmo e analisando os resultados](#Executando-o-algoritmo-e-analisando-os-resultados)\n",
    "- [Conclusão](#Conclusão)"
   ]
  },
  {
   "cell_type": "markdown",
   "metadata": {},
   "source": [
    "## Preliminares\n",
    "Importação de dependências"
   ]
  },
  {
   "cell_type": "markdown",
   "metadata": {},
   "source": [
    "### Coisas de quem usa Google Collab"
   ]
  },
  {
   "cell_type": "code",
   "execution_count": null,
   "metadata": {
    "colab": {},
    "colab_type": "code",
    "id": "M1LMQfCiNXqd"
   },
   "outputs": [],
   "source": [
    "#from google.colab import files\n",
    "#uploaded = files.upload()"
   ]
  },
  {
   "cell_type": "markdown",
   "metadata": {},
   "source": [
    "### Dependências"
   ]
  },
  {
   "cell_type": "code",
   "execution_count": 1,
   "metadata": {
    "colab": {},
    "colab_type": "code",
    "id": "f9HcrpywNhlL"
   },
   "outputs": [],
   "source": [
    "from scipy import stats\n",
    "import pandas as pd\n",
    "import numpy as np\n",
    "import matplotlib.pyplot as plt\n",
    "import matplotlib.lines as mlines\n",
    "import matplotlib.transforms as mtransforms\n",
    "import seaborn as sns\n",
    "import math\n",
    "import random\n",
    "\n",
    "import requests\n",
    "from urllib.parse import urlencode\n",
    "import json\n",
    "import os"
   ]
  },
  {
   "cell_type": "markdown",
   "metadata": {},
   "source": [
    "## Pré-processamento\n",
    "\n",
    "Obtenção de latitude e longitude dos pontos e limpeza de dados."
   ]
  },
  {
   "cell_type": "code",
   "execution_count": 2,
   "metadata": {
    "colab": {},
    "colab_type": "code",
    "id": "infoY3ZzNiE5"
   },
   "outputs": [
    {
     "data": {
      "text/html": [
       "<div>\n",
       "<style scoped>\n",
       "    .dataframe tbody tr th:only-of-type {\n",
       "        vertical-align: middle;\n",
       "    }\n",
       "\n",
       "    .dataframe tbody tr th {\n",
       "        vertical-align: top;\n",
       "    }\n",
       "\n",
       "    .dataframe thead th {\n",
       "        text-align: right;\n",
       "    }\n",
       "</style>\n",
       "<table border=\"1\" class=\"dataframe\">\n",
       "  <thead>\n",
       "    <tr style=\"text-align: right;\">\n",
       "      <th></th>\n",
       "      <th>Ref</th>\n",
       "      <th>Name</th>\n",
       "      <th>Category</th>\n",
       "      <th>Address</th>\n",
       "      <th>Days</th>\n",
       "      <th>Hours</th>\n",
       "      <th>Number of Reviews</th>\n",
       "      <th>Rating</th>\n",
       "      <th>Excellent</th>\n",
       "      <th>Very Good</th>\n",
       "      <th>Average</th>\n",
       "      <th>Poor</th>\n",
       "      <th>Terrible</th>\n",
       "      <th>Certified</th>\n",
       "    </tr>\n",
       "  </thead>\n",
       "  <tbody>\n",
       "    <tr>\n",
       "      <td>0</td>\n",
       "      <td>/Attraction_Review-g303631-d311966-Reviews-Par...</td>\n",
       "      <td>Parque Ibirapuera</td>\n",
       "      <td>Natureza e parques</td>\n",
       "      <td>Av. Pedro Álvares Cabral | Vila Mariana, São P...</td>\n",
       "      <td>Dom - Sáb</td>\n",
       "      <td>05:00 - 00:00</td>\n",
       "      <td>36.534</td>\n",
       "      <td>4,5</td>\n",
       "      <td>65%</td>\n",
       "      <td>29%</td>\n",
       "      <td>4%</td>\n",
       "      <td>1%</td>\n",
       "      <td>1%</td>\n",
       "      <td>True</td>\n",
       "    </tr>\n",
       "    <tr>\n",
       "      <td>1</td>\n",
       "      <td>/Attraction_Review-g303631-d550339-Reviews-Pau...</td>\n",
       "      <td>Avenida Paulista</td>\n",
       "      <td>Pontos turísticos e de interesse</td>\n",
       "      <td>Av. Paulista, São Paulo, Estado de São Paulo 0...</td>\n",
       "      <td>NaN</td>\n",
       "      <td>NaN</td>\n",
       "      <td>29.104</td>\n",
       "      <td>4,5</td>\n",
       "      <td>62%</td>\n",
       "      <td>29%</td>\n",
       "      <td>7%</td>\n",
       "      <td>1%</td>\n",
       "      <td>1%</td>\n",
       "      <td>True</td>\n",
       "    </tr>\n",
       "    <tr>\n",
       "      <td>2</td>\n",
       "      <td>/Attraction_Review-g303631-d4377562-Reviews-Co...</td>\n",
       "      <td>Arena Corinthians</td>\n",
       "      <td>Pontos turísticos e de interesse</td>\n",
       "      <td>Avenida Miguel Ignacio Curi, 111 | Itaquera, S...</td>\n",
       "      <td>Dom - Sáb</td>\n",
       "      <td>09:30 - 16:30</td>\n",
       "      <td>4.423</td>\n",
       "      <td>4,5</td>\n",
       "      <td>81%</td>\n",
       "      <td>14%</td>\n",
       "      <td>3%</td>\n",
       "      <td>1%</td>\n",
       "      <td>1%</td>\n",
       "      <td>True</td>\n",
       "    </tr>\n",
       "    <tr>\n",
       "      <td>3</td>\n",
       "      <td>/Attraction_Review-g303631-d2349915-Reviews-Al...</td>\n",
       "      <td>Allianz Parque</td>\n",
       "      <td>Pontos turísticos e de interesse</td>\n",
       "      <td>Avenida Francisco Matarazzo 1705 | Água Branca...</td>\n",
       "      <td>Dom - Sáb</td>\n",
       "      <td>10:00 - 17:00</td>\n",
       "      <td>5.138</td>\n",
       "      <td>4,5</td>\n",
       "      <td>74%</td>\n",
       "      <td>21%</td>\n",
       "      <td>3%</td>\n",
       "      <td>1%</td>\n",
       "      <td>1%</td>\n",
       "      <td>True</td>\n",
       "    </tr>\n",
       "    <tr>\n",
       "      <td>4</td>\n",
       "      <td>/Attraction_Review-g303631-d1407969-Reviews-Mu...</td>\n",
       "      <td>Museu do Futebol</td>\n",
       "      <td>Museus</td>\n",
       "      <td>Praça Charles Miller, S/N | Estádio do Pacaemb...</td>\n",
       "      <td>Ter - Dom</td>\n",
       "      <td>09:00 - 17:00</td>\n",
       "      <td>9.404</td>\n",
       "      <td>4,5</td>\n",
       "      <td>61%</td>\n",
       "      <td>32%</td>\n",
       "      <td>5%</td>\n",
       "      <td>1%</td>\n",
       "      <td>1%</td>\n",
       "      <td>True</td>\n",
       "    </tr>\n",
       "  </tbody>\n",
       "</table>\n",
       "</div>"
      ],
      "text/plain": [
       "                                                 Ref               Name  \\\n",
       "0  /Attraction_Review-g303631-d311966-Reviews-Par...  Parque Ibirapuera   \n",
       "1  /Attraction_Review-g303631-d550339-Reviews-Pau...   Avenida Paulista   \n",
       "2  /Attraction_Review-g303631-d4377562-Reviews-Co...  Arena Corinthians   \n",
       "3  /Attraction_Review-g303631-d2349915-Reviews-Al...     Allianz Parque   \n",
       "4  /Attraction_Review-g303631-d1407969-Reviews-Mu...   Museu do Futebol   \n",
       "\n",
       "                           Category  \\\n",
       "0                Natureza e parques   \n",
       "1  Pontos turísticos e de interesse   \n",
       "2  Pontos turísticos e de interesse   \n",
       "3  Pontos turísticos e de interesse   \n",
       "4                            Museus   \n",
       "\n",
       "                                             Address       Days  \\\n",
       "0  Av. Pedro Álvares Cabral | Vila Mariana, São P...  Dom - Sáb   \n",
       "1  Av. Paulista, São Paulo, Estado de São Paulo 0...        NaN   \n",
       "2  Avenida Miguel Ignacio Curi, 111 | Itaquera, S...  Dom - Sáb   \n",
       "3  Avenida Francisco Matarazzo 1705 | Água Branca...  Dom - Sáb   \n",
       "4  Praça Charles Miller, S/N | Estádio do Pacaemb...  Ter - Dom   \n",
       "\n",
       "           Hours  Number of Reviews Rating Excellent Very Good Average Poor  \\\n",
       "0  05:00 - 00:00             36.534    4,5       65%       29%      4%   1%   \n",
       "1            NaN             29.104    4,5       62%       29%      7%   1%   \n",
       "2  09:30 - 16:30              4.423    4,5       81%       14%      3%   1%   \n",
       "3  10:00 - 17:00              5.138    4,5       74%       21%      3%   1%   \n",
       "4  09:00 - 17:00              9.404    4,5       61%       32%      5%   1%   \n",
       "\n",
       "  Terrible  Certified  \n",
       "0       1%       True  \n",
       "1       1%       True  \n",
       "2       1%       True  \n",
       "3       1%       True  \n",
       "4       1%       True  "
      ]
     },
     "execution_count": 2,
     "metadata": {},
     "output_type": "execute_result"
    }
   ],
   "source": [
    "sns.set(rc = {'figure.figsize':(16, 8)})\n",
    "\n",
    "df = pd.read_csv('./Dataset/Sao_Paulo_State_of_Sao_Paulo.csv', delimiter=\",\", encoding = 'cp1252')\n",
    "\n",
    "df.head()"
   ]
  },
  {
   "cell_type": "code",
   "execution_count": 3,
   "metadata": {},
   "outputs": [
    {
     "name": "stdout",
     "output_type": "stream",
     "text": [
      "<class 'pandas.core.frame.DataFrame'>\n",
      "RangeIndex: 644 entries, 0 to 643\n",
      "Data columns (total 14 columns):\n",
      "Ref                  644 non-null object\n",
      "Name                 644 non-null object\n",
      "Category             629 non-null object\n",
      "Address              644 non-null object\n",
      "Days                 177 non-null object\n",
      "Hours                177 non-null object\n",
      "Number of Reviews    644 non-null float64\n",
      "Rating               644 non-null object\n",
      "Excellent            644 non-null object\n",
      "Very Good            644 non-null object\n",
      "Average              644 non-null object\n",
      "Poor                 644 non-null object\n",
      "Terrible             644 non-null object\n",
      "Certified            644 non-null bool\n",
      "dtypes: bool(1), float64(1), object(12)\n",
      "memory usage: 66.2+ KB\n"
     ]
    }
   ],
   "source": [
    "df.info()"
   ]
  },
  {
   "cell_type": "markdown",
   "metadata": {},
   "source": [
    "É possível ver que algumas instâncias possuem dados ausentes."
   ]
  },
  {
   "cell_type": "markdown",
   "metadata": {},
   "source": [
    "### Obtenção de latitude e longitude\n",
    "Utiliza-se a API do TomTom para obter a latitude e longitude dos pontos turísticos."
   ]
  },
  {
   "cell_type": "code",
   "execution_count": 4,
   "metadata": {},
   "outputs": [],
   "source": [
    "def fowardGeocoding(query, country, key):\n",
    "    response = requests.get(\"https://api.tomtom.com/search/2/geocode/\" + query[1: ] + \n",
    "                            \".json?limit=1&countrySet=\" + country + \n",
    "                            \"&key=\" + key)\n",
    "\n",
    "    return response"
   ]
  },
  {
   "cell_type": "code",
   "execution_count": 5,
   "metadata": {},
   "outputs": [],
   "source": [
    "def codeLocation(addresses, country):\n",
    "    lat = []\n",
    "    lon = []\n",
    "    for address in addresses:\n",
    "        if address != \"N/A\":\n",
    "            query = urlencode({\"\": address})\n",
    "            try:\n",
    "                result = fowardGeocoding(query, country, \"0sU5MUNhItpxLVRhCiSoUvyNEDU0OvCK\").text\n",
    "                loads = json.loads(result)\n",
    "                c = loads['results'][0]['position']\n",
    "                lat.append(c['lat'])\n",
    "                lon.append(c['lon'])\n",
    "\n",
    "            except: # Não foi possível encontrar a latitude e longitude do ponto\n",
    "                lat.append(0)\n",
    "                lon.append(0)\n",
    "            \n",
    "    return lat, lon"
   ]
  },
  {
   "cell_type": "markdown",
   "metadata": {},
   "source": [
    "As duas funções acima transformarão os dados contidos em Address em latitude e longitude. Instâncias com valores ausentes para Address serão descartadas:"
   ]
  },
  {
   "cell_type": "code",
   "execution_count": 6,
   "metadata": {},
   "outputs": [
    {
     "name": "stdout",
     "output_type": "stream",
     "text": [
      "Sobraram 644 instâncias!\n"
     ]
    }
   ],
   "source": [
    "df.dropna(subset = ['Address'], inplace = True)\n",
    "df.reset_index(inplace = True)\n",
    "df.drop(columns = ['index'], inplace = True)\n",
    "print(\"Sobraram\", len(df), \"instâncias!\")"
   ]
  },
  {
   "cell_type": "markdown",
   "metadata": {},
   "source": [
    "Enfim, faz-se a conversão:"
   ]
  },
  {
   "cell_type": "code",
   "execution_count": 7,
   "metadata": {},
   "outputs": [],
   "source": [
    "latitudes, longitudes = codeLocation(df['Address'], 'BR')"
   ]
  },
  {
   "cell_type": "code",
   "execution_count": 8,
   "metadata": {},
   "outputs": [
    {
     "data": {
      "text/html": [
       "<div>\n",
       "<style scoped>\n",
       "    .dataframe tbody tr th:only-of-type {\n",
       "        vertical-align: middle;\n",
       "    }\n",
       "\n",
       "    .dataframe tbody tr th {\n",
       "        vertical-align: top;\n",
       "    }\n",
       "\n",
       "    .dataframe thead th {\n",
       "        text-align: right;\n",
       "    }\n",
       "</style>\n",
       "<table border=\"1\" class=\"dataframe\">\n",
       "  <thead>\n",
       "    <tr style=\"text-align: right;\">\n",
       "      <th></th>\n",
       "      <th>Ref</th>\n",
       "      <th>Name</th>\n",
       "      <th>Category</th>\n",
       "      <th>Address</th>\n",
       "      <th>Days</th>\n",
       "      <th>Hours</th>\n",
       "      <th>Number of Reviews</th>\n",
       "      <th>Rating</th>\n",
       "      <th>Excellent</th>\n",
       "      <th>Very Good</th>\n",
       "      <th>Average</th>\n",
       "      <th>Poor</th>\n",
       "      <th>Terrible</th>\n",
       "      <th>Certified</th>\n",
       "      <th>Latitude</th>\n",
       "      <th>Longitude</th>\n",
       "    </tr>\n",
       "  </thead>\n",
       "  <tbody>\n",
       "    <tr>\n",
       "      <td>0</td>\n",
       "      <td>/Attraction_Review-g303631-d311966-Reviews-Par...</td>\n",
       "      <td>Parque Ibirapuera</td>\n",
       "      <td>Natureza e parques</td>\n",
       "      <td>Av. Pedro Álvares Cabral | Vila Mariana, São P...</td>\n",
       "      <td>Dom - Sáb</td>\n",
       "      <td>05:00 - 00:00</td>\n",
       "      <td>36.534</td>\n",
       "      <td>4,5</td>\n",
       "      <td>65%</td>\n",
       "      <td>29%</td>\n",
       "      <td>4%</td>\n",
       "      <td>1%</td>\n",
       "      <td>1%</td>\n",
       "      <td>True</td>\n",
       "      <td>-23.59161</td>\n",
       "      <td>-46.65056</td>\n",
       "    </tr>\n",
       "    <tr>\n",
       "      <td>1</td>\n",
       "      <td>/Attraction_Review-g303631-d550339-Reviews-Pau...</td>\n",
       "      <td>Avenida Paulista</td>\n",
       "      <td>Pontos turísticos e de interesse</td>\n",
       "      <td>Av. Paulista, São Paulo, Estado de São Paulo 0...</td>\n",
       "      <td>NaN</td>\n",
       "      <td>NaN</td>\n",
       "      <td>29.104</td>\n",
       "      <td>4,5</td>\n",
       "      <td>62%</td>\n",
       "      <td>29%</td>\n",
       "      <td>7%</td>\n",
       "      <td>1%</td>\n",
       "      <td>1%</td>\n",
       "      <td>True</td>\n",
       "      <td>-23.55731</td>\n",
       "      <td>-46.66108</td>\n",
       "    </tr>\n",
       "    <tr>\n",
       "      <td>2</td>\n",
       "      <td>/Attraction_Review-g303631-d4377562-Reviews-Co...</td>\n",
       "      <td>Arena Corinthians</td>\n",
       "      <td>Pontos turísticos e de interesse</td>\n",
       "      <td>Avenida Miguel Ignacio Curi, 111 | Itaquera, S...</td>\n",
       "      <td>Dom - Sáb</td>\n",
       "      <td>09:30 - 16:30</td>\n",
       "      <td>4.423</td>\n",
       "      <td>4,5</td>\n",
       "      <td>81%</td>\n",
       "      <td>14%</td>\n",
       "      <td>3%</td>\n",
       "      <td>1%</td>\n",
       "      <td>1%</td>\n",
       "      <td>True</td>\n",
       "      <td>-23.54623</td>\n",
       "      <td>-46.47236</td>\n",
       "    </tr>\n",
       "    <tr>\n",
       "      <td>3</td>\n",
       "      <td>/Attraction_Review-g303631-d2349915-Reviews-Al...</td>\n",
       "      <td>Allianz Parque</td>\n",
       "      <td>Pontos turísticos e de interesse</td>\n",
       "      <td>Avenida Francisco Matarazzo 1705 | Água Branca...</td>\n",
       "      <td>Dom - Sáb</td>\n",
       "      <td>10:00 - 17:00</td>\n",
       "      <td>5.138</td>\n",
       "      <td>4,5</td>\n",
       "      <td>74%</td>\n",
       "      <td>21%</td>\n",
       "      <td>3%</td>\n",
       "      <td>1%</td>\n",
       "      <td>1%</td>\n",
       "      <td>True</td>\n",
       "      <td>-23.52581</td>\n",
       "      <td>-46.67978</td>\n",
       "    </tr>\n",
       "    <tr>\n",
       "      <td>4</td>\n",
       "      <td>/Attraction_Review-g303631-d1407969-Reviews-Mu...</td>\n",
       "      <td>Museu do Futebol</td>\n",
       "      <td>Museus</td>\n",
       "      <td>Praça Charles Miller, S/N | Estádio do Pacaemb...</td>\n",
       "      <td>Ter - Dom</td>\n",
       "      <td>09:00 - 17:00</td>\n",
       "      <td>9.404</td>\n",
       "      <td>4,5</td>\n",
       "      <td>61%</td>\n",
       "      <td>32%</td>\n",
       "      <td>5%</td>\n",
       "      <td>1%</td>\n",
       "      <td>1%</td>\n",
       "      <td>True</td>\n",
       "      <td>-23.54495</td>\n",
       "      <td>-46.66580</td>\n",
       "    </tr>\n",
       "  </tbody>\n",
       "</table>\n",
       "</div>"
      ],
      "text/plain": [
       "                                                 Ref               Name  \\\n",
       "0  /Attraction_Review-g303631-d311966-Reviews-Par...  Parque Ibirapuera   \n",
       "1  /Attraction_Review-g303631-d550339-Reviews-Pau...   Avenida Paulista   \n",
       "2  /Attraction_Review-g303631-d4377562-Reviews-Co...  Arena Corinthians   \n",
       "3  /Attraction_Review-g303631-d2349915-Reviews-Al...     Allianz Parque   \n",
       "4  /Attraction_Review-g303631-d1407969-Reviews-Mu...   Museu do Futebol   \n",
       "\n",
       "                           Category  \\\n",
       "0                Natureza e parques   \n",
       "1  Pontos turísticos e de interesse   \n",
       "2  Pontos turísticos e de interesse   \n",
       "3  Pontos turísticos e de interesse   \n",
       "4                            Museus   \n",
       "\n",
       "                                             Address       Days  \\\n",
       "0  Av. Pedro Álvares Cabral | Vila Mariana, São P...  Dom - Sáb   \n",
       "1  Av. Paulista, São Paulo, Estado de São Paulo 0...        NaN   \n",
       "2  Avenida Miguel Ignacio Curi, 111 | Itaquera, S...  Dom - Sáb   \n",
       "3  Avenida Francisco Matarazzo 1705 | Água Branca...  Dom - Sáb   \n",
       "4  Praça Charles Miller, S/N | Estádio do Pacaemb...  Ter - Dom   \n",
       "\n",
       "           Hours  Number of Reviews Rating Excellent Very Good Average Poor  \\\n",
       "0  05:00 - 00:00             36.534    4,5       65%       29%      4%   1%   \n",
       "1            NaN             29.104    4,5       62%       29%      7%   1%   \n",
       "2  09:30 - 16:30              4.423    4,5       81%       14%      3%   1%   \n",
       "3  10:00 - 17:00              5.138    4,5       74%       21%      3%   1%   \n",
       "4  09:00 - 17:00              9.404    4,5       61%       32%      5%   1%   \n",
       "\n",
       "  Terrible  Certified  Latitude  Longitude  \n",
       "0       1%       True -23.59161  -46.65056  \n",
       "1       1%       True -23.55731  -46.66108  \n",
       "2       1%       True -23.54623  -46.47236  \n",
       "3       1%       True -23.52581  -46.67978  \n",
       "4       1%       True -23.54495  -46.66580  "
      ]
     },
     "execution_count": 8,
     "metadata": {},
     "output_type": "execute_result"
    }
   ],
   "source": [
    "geocodes_df = pd.DataFrame({'Latitude': latitudes, 'Longitude': longitudes})\n",
    "\n",
    "df = df.join(geocodes_df)\n",
    "\n",
    "df.head()"
   ]
  },
  {
   "cell_type": "markdown",
   "metadata": {},
   "source": [
    "Lembrar de salvar a base de dados para evitar estourar a cota diária de uso da API:"
   ]
  },
  {
   "cell_type": "code",
   "execution_count": 9,
   "metadata": {},
   "outputs": [],
   "source": [
    "df.to_csv('SP_Coded.csv', index = False, encoding = 'cp1252')"
   ]
  },
  {
   "cell_type": "markdown",
   "metadata": {},
   "source": [
    "### Limpeza de dados\n",
    "\n",
    "A geocodificação gerou algumas instâncias com latitude e longitude 0, e também resultou em valores errados para outras, a decisão tomada para estas é de simplesmente removê-las."
   ]
  },
  {
   "cell_type": "code",
   "execution_count": 36,
   "metadata": {},
   "outputs": [],
   "source": [
    "df = pd.read_csv('JPA_Coded.csv', delimiter=\",\", encoding = 'cp1252')"
   ]
  },
  {
   "cell_type": "code",
   "execution_count": 37,
   "metadata": {},
   "outputs": [
    {
     "name": "stdout",
     "output_type": "stream",
     "text": [
      "Sobraram 117 instâncias!\n"
     ]
    }
   ],
   "source": [
    "df = df[df['Latitude'] != 0] # Manter quem possui latitude diferente de 0\n",
    "df.reset_index(inplace = True)\n",
    "df = df[df['Longitude'] != 0] # Manter quem possui longitude diferente de 0\n",
    "df.reset_index(inplace = True)\n",
    "df.drop(columns = ['index'], inplace = True)\n",
    "print(\"Sobraram\", len(df), \"instâncias!\")"
   ]
  },
  {
   "cell_type": "code",
   "execution_count": 38,
   "metadata": {},
   "outputs": [
    {
     "data": {
      "text/plain": [
       "<matplotlib.axes._subplots.AxesSubplot at 0x12ecc97d0>"
      ]
     },
     "execution_count": 38,
     "metadata": {},
     "output_type": "execute_result"
    },
    {
     "data": {
      "image/png": "[encoded data removed]",
      "text/plain": [
       "<Figure size 1152x576 with 1 Axes>"
      ]
     },
     "metadata": {},
     "output_type": "display_data"
    }
   ],
   "source": [
    "df.boxplot(column = ['Latitude', 'Longitude'])"
   ]
  },
  {
   "cell_type": "markdown",
   "metadata": {},
   "source": [
    "Como é de se esperar os pontos turísticos de uma mesma cidade terão uma pequena variação entre a latitude e longitude destes, resultando que pontos mais distantes serão identificados como outliers, contudo, eles podem de fato serem um ponto turístico ou simplesmente, terem sido erroneamente geocodificados (Por exemplo: Um ponto do Crato, CE, ser codificado para um lugar no Maranhão). \n",
    "\n",
    "A decisão tomada quanto a isso será limitar as latitudes e longitudes em um intervalo, pré-definido, tendo em consideração os seguintes valores para a latitude e longitude das cidades (Obtidos por meio de uma pesquisa no Google):\n",
    "\n",
    "- Crato: 7.2300° S, 39.4123° W\n",
    "- São Paulo: 23.5505° S, 46.6333° W\n",
    "- João Pessoa: 7.1195° S, 34.8450° W\n",
    "- Varginha: 21.5561° S, 45.4369° W\n",
    "- Uberlândia: 18.9128° S, 48.2755° W\n",
    "- Hallstatt, Aústria: 47.5622° N, 13.6493° E\n"
   ]
  },
  {
   "cell_type": "code",
   "execution_count": 39,
   "metadata": {},
   "outputs": [],
   "source": [
    "lat_lon_dict = { \"Crato\": [-7.23, -39.4123],\n",
    "                 \"SP\": [-23.5505, -46.6333],\n",
    "                 \"JPA\": [-7.1195, -34.845],\n",
    "                 \"Varginha\": [-21.5561, -45.4369],\n",
    "                 \"Uberlandia\": [-18.9128, -48.2755],\n",
    "                 \"Hallstatt\": [47.5622, 13.6493]\n",
    "}"
   ]
  },
  {
   "cell_type": "code",
   "execution_count": 40,
   "metadata": {},
   "outputs": [],
   "source": [
    "def dropOutliersByZScore(df, column, threshold = 3):\n",
    "\n",
    "    df2 = df[(np.abs(stats.zscore(df[column])) < threshold)].copy()\n",
    "\n",
    "    df2.reset_index(inplace = True)\n",
    "    df2.drop(columns = ['index'], inplace = True)\n",
    "    \n",
    "    return df2\n",
    "\n",
    "def dropOutliersByRange(df, column, minValue, maxValue):\n",
    "\n",
    "    df2 = df[abs(df[column]) > maxValue].copy()\n",
    "    df2.reset_index(inplace = True)\n",
    "    df2.drop(columns = ['index'], inplace = True)\n",
    "    \n",
    "    df3 = df2[abs(df2[column]) < minValue].copy()\n",
    "    df3.reset_index(inplace = True)\n",
    "    \n",
    "    df3.drop(columns = ['index'], inplace = True)\n",
    "    \n",
    "    return df3"
   ]
  },
  {
   "cell_type": "markdown",
   "metadata": {},
   "source": [
    "Temos que:\n",
    "\n",
    "Latitude: 1 deg = 110,574 km\n",
    "\n",
    "Longitude: 1 deg = 111,320 * cos(latitude) km\n",
    "\n",
    "Serão aceitos pontos que se encontrem a até 0.5 graus em termos absolutos da mediana."
   ]
  },
  {
   "cell_type": "code",
   "execution_count": 41,
   "metadata": {},
   "outputs": [
    {
     "name": "stdout",
     "output_type": "stream",
     "text": [
      "Sobraram 115 instâncias!\n"
     ]
    }
   ],
   "source": [
    "df = dropOutliersByRange(df, 'Latitude', abs(df['Latitude'].median() - 0.5), abs(df['Latitude'].median() + 0.5))\n",
    "df = dropOutliersByRange(df, 'Longitude', abs(df['Longitude'].median() - 0.5), abs(df['Longitude'].median() + 0.5))\n",
    "print(\"Sobraram\", len(df), \"instâncias!\")"
   ]
  },
  {
   "cell_type": "markdown",
   "metadata": {},
   "source": [
    "Ainda é possível que existam instâncias com valores duplicados:"
   ]
  },
  {
   "cell_type": "code",
   "execution_count": 42,
   "metadata": {},
   "outputs": [
    {
     "data": {
      "text/html": [
       "<div>\n",
       "<style scoped>\n",
       "    .dataframe tbody tr th:only-of-type {\n",
       "        vertical-align: middle;\n",
       "    }\n",
       "\n",
       "    .dataframe tbody tr th {\n",
       "        vertical-align: top;\n",
       "    }\n",
       "\n",
       "    .dataframe thead th {\n",
       "        text-align: right;\n",
       "    }\n",
       "</style>\n",
       "<table border=\"1\" class=\"dataframe\">\n",
       "  <thead>\n",
       "    <tr style=\"text-align: right;\">\n",
       "      <th></th>\n",
       "      <th>level_0</th>\n",
       "      <th>Ref</th>\n",
       "      <th>Name</th>\n",
       "      <th>Category</th>\n",
       "      <th>Address</th>\n",
       "      <th>Days</th>\n",
       "      <th>Hours</th>\n",
       "      <th>Number of Reviews</th>\n",
       "      <th>Rating</th>\n",
       "      <th>Excellent</th>\n",
       "      <th>Very Good</th>\n",
       "      <th>Average</th>\n",
       "      <th>Poor</th>\n",
       "      <th>Terrible</th>\n",
       "      <th>Certified</th>\n",
       "      <th>Latitude</th>\n",
       "      <th>Longitude</th>\n",
       "    </tr>\n",
       "  </thead>\n",
       "  <tbody>\n",
       "    <tr>\n",
       "      <td>0</td>\n",
       "      <td>0</td>\n",
       "      <td>/Attraction_Review-g303428-d2342247-Reviews-Ta...</td>\n",
       "      <td>Praia de Tambaú</td>\n",
       "      <td>Atividades ao ar livre</td>\n",
       "      <td>Av. Alm. Tamandare - Tambau, João Pessoa, Para...</td>\n",
       "      <td>NaN</td>\n",
       "      <td>NaN</td>\n",
       "      <td>5.597</td>\n",
       "      <td>4,0</td>\n",
       "      <td>43%</td>\n",
       "      <td>41%</td>\n",
       "      <td>14%</td>\n",
       "      <td>1%</td>\n",
       "      <td>1%</td>\n",
       "      <td>True</td>\n",
       "      <td>-7.11466</td>\n",
       "      <td>-34.82261</td>\n",
       "    </tr>\n",
       "    <tr>\n",
       "      <td>2</td>\n",
       "      <td>2</td>\n",
       "      <td>/Attraction_Review-g303428-d2342321-Reviews-Pi...</td>\n",
       "      <td>Picãozinho - Embarcação Pirata</td>\n",
       "      <td>Atividades ao ar livre</td>\n",
       "      <td>| Ilha Picãozinho no Oceano, João Pessoa, Par...</td>\n",
       "      <td>NaN</td>\n",
       "      <td>NaN</td>\n",
       "      <td>2.498</td>\n",
       "      <td>4,5</td>\n",
       "      <td>55%</td>\n",
       "      <td>30%</td>\n",
       "      <td>12%</td>\n",
       "      <td>2%</td>\n",
       "      <td>1%</td>\n",
       "      <td>True</td>\n",
       "      <td>-7.14016</td>\n",
       "      <td>-34.89785</td>\n",
       "    </tr>\n",
       "    <tr>\n",
       "      <td>3</td>\n",
       "      <td>3</td>\n",
       "      <td>/Attraction_Review-g303428-d4702338-Reviews-Ig...</td>\n",
       "      <td>Igreja São Francisco</td>\n",
       "      <td>Pontos turísticos e de interesse</td>\n",
       "      <td>Ladeira São Francisco, Centro, João Pessoa, Pa...</td>\n",
       "      <td>Dom</td>\n",
       "      <td>09:00 - 14:00</td>\n",
       "      <td>2.756</td>\n",
       "      <td>4,5</td>\n",
       "      <td>59%</td>\n",
       "      <td>32%</td>\n",
       "      <td>7%</td>\n",
       "      <td>1%</td>\n",
       "      <td>1%</td>\n",
       "      <td>True</td>\n",
       "      <td>-7.11447</td>\n",
       "      <td>-34.88470</td>\n",
       "    </tr>\n",
       "    <tr>\n",
       "      <td>4</td>\n",
       "      <td>4</td>\n",
       "      <td>/Attraction_Review-g303428-d2342253-Reviews-Be...</td>\n",
       "      <td>Praia do Bessa</td>\n",
       "      <td>Atividades ao ar livre</td>\n",
       "      <td>João Pessoa, Paraíba, Brasil</td>\n",
       "      <td>Seg - Sáb</td>\n",
       "      <td>08:00 - 18:00</td>\n",
       "      <td>1.790</td>\n",
       "      <td>4,0</td>\n",
       "      <td>43%</td>\n",
       "      <td>40%</td>\n",
       "      <td>15%</td>\n",
       "      <td>1%</td>\n",
       "      <td>1%</td>\n",
       "      <td>True</td>\n",
       "      <td>-7.11525</td>\n",
       "      <td>-34.86105</td>\n",
       "    </tr>\n",
       "    <tr>\n",
       "      <td>6</td>\n",
       "      <td>6</td>\n",
       "      <td>/Attraction_Review-g303428-d4586364-Reviews-Ce...</td>\n",
       "      <td>Centro Histórico de João Pessoa</td>\n",
       "      <td>Pontos turísticos e de interesse</td>\n",
       "      <td>Centro Historico Joao Pessoa, João Pessoa, Par...</td>\n",
       "      <td>NaN</td>\n",
       "      <td>NaN</td>\n",
       "      <td>1.630</td>\n",
       "      <td>4,0</td>\n",
       "      <td>41%</td>\n",
       "      <td>35%</td>\n",
       "      <td>19%</td>\n",
       "      <td>4%</td>\n",
       "      <td>1%</td>\n",
       "      <td>True</td>\n",
       "      <td>-7.11525</td>\n",
       "      <td>-34.86105</td>\n",
       "    </tr>\n",
       "    <tr>\n",
       "      <td>...</td>\n",
       "      <td>...</td>\n",
       "      <td>...</td>\n",
       "      <td>...</td>\n",
       "      <td>...</td>\n",
       "      <td>...</td>\n",
       "      <td>...</td>\n",
       "      <td>...</td>\n",
       "      <td>...</td>\n",
       "      <td>...</td>\n",
       "      <td>...</td>\n",
       "      <td>...</td>\n",
       "      <td>...</td>\n",
       "      <td>...</td>\n",
       "      <td>...</td>\n",
       "      <td>...</td>\n",
       "      <td>...</td>\n",
       "      <td>...</td>\n",
       "    </tr>\n",
       "    <tr>\n",
       "      <td>101</td>\n",
       "      <td>103</td>\n",
       "      <td>/Attraction_Review-g303428-d4376618-Reviews-Mo...</td>\n",
       "      <td>Museu de Arte Popular Mostra Brasil</td>\n",
       "      <td>Museus especializados</td>\n",
       "      <td>Praca Sao Francisco s/n | Centro, João Pessoa,...</td>\n",
       "      <td>NaN</td>\n",
       "      <td>NaN</td>\n",
       "      <td>10.000</td>\n",
       "      <td>4,0</td>\n",
       "      <td>30%</td>\n",
       "      <td>40%</td>\n",
       "      <td>30%</td>\n",
       "      <td>0%</td>\n",
       "      <td>0%</td>\n",
       "      <td>False</td>\n",
       "      <td>-7.11447</td>\n",
       "      <td>-34.88470</td>\n",
       "    </tr>\n",
       "    <tr>\n",
       "      <td>102</td>\n",
       "      <td>104</td>\n",
       "      <td>/Attraction_Review-g303428-d4376612-Reviews-Bi...</td>\n",
       "      <td>Big House of Tiles</td>\n",
       "      <td>Museus especializados</td>\n",
       "      <td>Rua Conselheiro Henrique 159 | Centro, João Pe...</td>\n",
       "      <td>NaN</td>\n",
       "      <td>NaN</td>\n",
       "      <td>13.000</td>\n",
       "      <td>3,5</td>\n",
       "      <td>7%</td>\n",
       "      <td>38%</td>\n",
       "      <td>48%</td>\n",
       "      <td>7%</td>\n",
       "      <td>0%</td>\n",
       "      <td>False</td>\n",
       "      <td>-7.11644</td>\n",
       "      <td>-34.88317</td>\n",
       "    </tr>\n",
       "    <tr>\n",
       "      <td>106</td>\n",
       "      <td>108</td>\n",
       "      <td>/Attraction_Review-g303428-d2342218-Reviews-Mu...</td>\n",
       "      <td>Museu Fotográfico Walfredo Rodrigues</td>\n",
       "      <td>Museus especializados</td>\n",
       "      <td>Ladeira de São Francisco S/N | Centro, João Pe...</td>\n",
       "      <td>NaN</td>\n",
       "      <td>NaN</td>\n",
       "      <td>10.000</td>\n",
       "      <td>3,0</td>\n",
       "      <td>10%</td>\n",
       "      <td>20%</td>\n",
       "      <td>40%</td>\n",
       "      <td>30%</td>\n",
       "      <td>0%</td>\n",
       "      <td>False</td>\n",
       "      <td>-7.11447</td>\n",
       "      <td>-34.88470</td>\n",
       "    </tr>\n",
       "    <tr>\n",
       "      <td>107</td>\n",
       "      <td>109</td>\n",
       "      <td>/Attraction_Review-g303428-d4127654-Reviews-UF...</td>\n",
       "      <td>UFPB - Teatro Lampião</td>\n",
       "      <td>Teatros</td>\n",
       "      <td>Campus Universitario-Campus I, João Pessoa, Pa...</td>\n",
       "      <td>NaN</td>\n",
       "      <td>NaN</td>\n",
       "      <td>13.000</td>\n",
       "      <td>3,5</td>\n",
       "      <td>15%</td>\n",
       "      <td>40%</td>\n",
       "      <td>23%</td>\n",
       "      <td>15%</td>\n",
       "      <td>7%</td>\n",
       "      <td>False</td>\n",
       "      <td>-7.18194</td>\n",
       "      <td>-34.82663</td>\n",
       "    </tr>\n",
       "    <tr>\n",
       "      <td>109</td>\n",
       "      <td>111</td>\n",
       "      <td>/Attraction_Review-g303428-d4127655-Reviews-UF...</td>\n",
       "      <td>Teatro da UFPB - Sala Preta</td>\n",
       "      <td>Teatros</td>\n",
       "      <td>Campus Universitario-Campus I, João Pessoa, Pa...</td>\n",
       "      <td>NaN</td>\n",
       "      <td>NaN</td>\n",
       "      <td>11.000</td>\n",
       "      <td>3,5</td>\n",
       "      <td>9%</td>\n",
       "      <td>46%</td>\n",
       "      <td>9%</td>\n",
       "      <td>36%</td>\n",
       "      <td>0%</td>\n",
       "      <td>False</td>\n",
       "      <td>-7.18194</td>\n",
       "      <td>-34.82663</td>\n",
       "    </tr>\n",
       "  </tbody>\n",
       "</table>\n",
       "<p>62 rows × 17 columns</p>\n",
       "</div>"
      ],
      "text/plain": [
       "     level_0                                                Ref  \\\n",
       "0          0  /Attraction_Review-g303428-d2342247-Reviews-Ta...   \n",
       "2          2  /Attraction_Review-g303428-d2342321-Reviews-Pi...   \n",
       "3          3  /Attraction_Review-g303428-d4702338-Reviews-Ig...   \n",
       "4          4  /Attraction_Review-g303428-d2342253-Reviews-Be...   \n",
       "6          6  /Attraction_Review-g303428-d4586364-Reviews-Ce...   \n",
       "..       ...                                                ...   \n",
       "101      103  /Attraction_Review-g303428-d4376618-Reviews-Mo...   \n",
       "102      104  /Attraction_Review-g303428-d4376612-Reviews-Bi...   \n",
       "106      108  /Attraction_Review-g303428-d2342218-Reviews-Mu...   \n",
       "107      109  /Attraction_Review-g303428-d4127654-Reviews-UF...   \n",
       "109      111  /Attraction_Review-g303428-d4127655-Reviews-UF...   \n",
       "\n",
       "                                     Name                          Category  \\\n",
       "0                         Praia de Tambaú            Atividades ao ar livre   \n",
       "2          Picãozinho - Embarcação Pirata            Atividades ao ar livre   \n",
       "3                    Igreja São Francisco  Pontos turísticos e de interesse   \n",
       "4                          Praia do Bessa            Atividades ao ar livre   \n",
       "6         Centro Histórico de João Pessoa  Pontos turísticos e de interesse   \n",
       "..                                    ...                               ...   \n",
       "101   Museu de Arte Popular Mostra Brasil             Museus especializados   \n",
       "102                    Big House of Tiles             Museus especializados   \n",
       "106  Museu Fotográfico Walfredo Rodrigues             Museus especializados   \n",
       "107                 UFPB - Teatro Lampião                           Teatros   \n",
       "109           Teatro da UFPB - Sala Preta                           Teatros   \n",
       "\n",
       "                                               Address       Days  \\\n",
       "0    Av. Alm. Tamandare - Tambau, João Pessoa, Para...        NaN   \n",
       "2     | Ilha Picãozinho no Oceano, João Pessoa, Par...        NaN   \n",
       "3    Ladeira São Francisco, Centro, João Pessoa, Pa...        Dom   \n",
       "4                         João Pessoa, Paraíba, Brasil  Seg - Sáb   \n",
       "6    Centro Historico Joao Pessoa, João Pessoa, Par...        NaN   \n",
       "..                                                 ...        ...   \n",
       "101  Praca Sao Francisco s/n | Centro, João Pessoa,...        NaN   \n",
       "102  Rua Conselheiro Henrique 159 | Centro, João Pe...        NaN   \n",
       "106  Ladeira de São Francisco S/N | Centro, João Pe...        NaN   \n",
       "107  Campus Universitario-Campus I, João Pessoa, Pa...        NaN   \n",
       "109  Campus Universitario-Campus I, João Pessoa, Pa...        NaN   \n",
       "\n",
       "             Hours  Number of Reviews Rating Excellent Very Good Average Poor  \\\n",
       "0              NaN              5.597    4,0       43%       41%     14%   1%   \n",
       "2              NaN              2.498    4,5       55%       30%     12%   2%   \n",
       "3    09:00 - 14:00              2.756    4,5       59%       32%      7%   1%   \n",
       "4    08:00 - 18:00              1.790    4,0       43%       40%     15%   1%   \n",
       "6              NaN              1.630    4,0       41%       35%     19%   4%   \n",
       "..             ...                ...    ...       ...       ...     ...  ...   \n",
       "101            NaN             10.000    4,0       30%       40%     30%   0%   \n",
       "102            NaN             13.000    3,5        7%       38%     48%   7%   \n",
       "106            NaN             10.000    3,0       10%       20%     40%  30%   \n",
       "107            NaN             13.000    3,5       15%       40%     23%  15%   \n",
       "109            NaN             11.000    3,5        9%       46%      9%  36%   \n",
       "\n",
       "    Terrible  Certified  Latitude  Longitude  \n",
       "0         1%       True  -7.11466  -34.82261  \n",
       "2         1%       True  -7.14016  -34.89785  \n",
       "3         1%       True  -7.11447  -34.88470  \n",
       "4         1%       True  -7.11525  -34.86105  \n",
       "6         1%       True  -7.11525  -34.86105  \n",
       "..       ...        ...       ...        ...  \n",
       "101       0%      False  -7.11447  -34.88470  \n",
       "102       0%      False  -7.11644  -34.88317  \n",
       "106       0%      False  -7.11447  -34.88470  \n",
       "107       7%      False  -7.18194  -34.82663  \n",
       "109       0%      False  -7.18194  -34.82663  \n",
       "\n",
       "[62 rows x 17 columns]"
      ]
     },
     "execution_count": 42,
     "metadata": {},
     "output_type": "execute_result"
    }
   ],
   "source": [
    "df[df.duplicated(subset = ['Latitude', 'Longitude'], keep = False)]"
   ]
  },
  {
   "cell_type": "markdown",
   "metadata": {},
   "source": [
    "Por exemplo, os teatros da UFPB, apesar de serem dois pontos diferentes, foram codificados em um mesmo lugar, contudo, é esperado, uma vez que o endereço destes é o do local que o contém (a UFPB). Nenhuma ação adicional será tomada quanto a isso."
   ]
  },
  {
   "cell_type": "markdown",
   "metadata": {},
   "source": [
    "## Implementando o algoritmo genético"
   ]
  },
  {
   "cell_type": "markdown",
   "metadata": {},
   "source": [
    "### Obter matriz de distâncias\n",
    "\n",
    "Necessário para obter o custo de cada rota."
   ]
  },
  {
   "cell_type": "code",
   "execution_count": 43,
   "metadata": {},
   "outputs": [],
   "source": [
    "df.reset_index(inplace = True) # adicionar uma coluna de indices"
   ]
  },
  {
   "cell_type": "code",
   "execution_count": 44,
   "metadata": {
    "colab": {},
    "colab_type": "code",
    "id": "xrmu82h2Nuee"
   },
   "outputs": [],
   "source": [
    "def createDistancesMatrix(lat, lon):\n",
    "    if len(lat) != len(lon):\n",
    "        return None\n",
    "    \n",
    "    dimension = len(lat)\n",
    "    matrix = np.zeros((dimension, dimension))\n",
    "\n",
    "    RRR = 6378.388\n",
    "    for i in range(dimension):\n",
    "        for j in range(dimension):\n",
    "            dlon = math.radians(lon[j]) - math.radians(lon[i])\n",
    "            dlat = math.radians(lat[j]) - math.radians(lat[i])\n",
    "\n",
    "            a = math.sin(dlat / 2) ** 2 + math.cos(math.radians(lat[i])) * math.cos(math.radians(lat[j])) * math.sin(dlon / 2) ** 2\n",
    "            c = 2 * math.atan2(math.sqrt(a), math.sqrt(1 - a))\n",
    "            \n",
    "            matrix[i][j] = RRR * c\n",
    "    \n",
    "    return matrix"
   ]
  },
  {
   "cell_type": "code",
   "execution_count": 45,
   "metadata": {
    "colab": {
     "base_uri": "https://localhost:8080/",
     "height": 34
    },
    "colab_type": "code",
    "executionInfo": {
     "elapsed": 1016,
     "status": "ok",
     "timestamp": 1584209867612,
     "user": {
      "displayName": "Pablo Suria",
      "photoUrl": "https://lh3.googleusercontent.com/a-/AOh14GjVlPzsSLBUUJzVPIe_VFh10rA9ZyoaQgLWogDoVA=s64",
      "userId": "11257464053792553727"
     },
     "user_tz": 180
    },
    "id": "2KYBjj6nQ1eV",
    "outputId": "1e228e59-b599-46f3-d039-e25df5b74adf"
   },
   "outputs": [],
   "source": [
    "matrix = createDistancesMatrix(df['Latitude'], df['Longitude'])"
   ]
  },
  {
   "cell_type": "code",
   "execution_count": 46,
   "metadata": {},
   "outputs": [],
   "source": [
    "def scatter(x, y, title = None):\n",
    "    fig, ax = plt.subplots()\n",
    "    ax.scatter(x, y, c='orange')\n",
    "    #line = mlines.Line2D([0, 1], [0, 1], color='black')\n",
    "    #transform = ax.transAxes\n",
    "    #line.set_transform(transform)\n",
    "    #ax.add_line(line)\n",
    "    plt.xlabel(\"Lat\")\n",
    "    plt.ylabel(\"Lon\")\n",
    "    if title != None:\n",
    "        plt.title(title)\n",
    "    plt.show()"
   ]
  },
  {
   "cell_type": "code",
   "execution_count": 47,
   "metadata": {},
   "outputs": [
    {
     "data": {
      "image/png": "[encoded data removed]",
      "text/plain": [
       "<Figure size 1152x576 with 1 Axes>"
      ]
     },
     "metadata": {},
     "output_type": "display_data"
    }
   ],
   "source": [
    "scatter(df['Latitude'], df['Longitude'])"
   ]
  },
  {
   "cell_type": "markdown",
   "metadata": {},
   "source": [
    "### Função fitness\n",
    "Será o inverso da distância da rota, valores menores para a função objetivo (minimizar custo da rota) resultarão em um fitness maior."
   ]
  },
  {
   "cell_type": "code",
   "execution_count": 48,
   "metadata": {},
   "outputs": [],
   "source": [
    "def getDistance(route, matrix):\n",
    "    distance = 0\n",
    "    for i in range(0, len(route) - 1):\n",
    "        distance += matrix[route[i]][route[i + 1]]\n",
    "        \n",
    "    distance += matrix[route[len(route) - 1]][route[0]]\n",
    "    \n",
    "    return distance\n",
    "\n",
    "def getFitness(cost):\n",
    "    if cost != 0:\n",
    "        return 1 / cost\n",
    "    else:\n",
    "        return 1"
   ]
  },
  {
   "cell_type": "markdown",
   "metadata": {},
   "source": [
    "### Criação de rotas\n",
    "Geração aleatória, cada rota conterá uma sequência aleatória de visitação."
   ]
  },
  {
   "cell_type": "code",
   "execution_count": 49,
   "metadata": {},
   "outputs": [],
   "source": [
    "def createRoute():\n",
    "    return random.sample(list(df['index']), len(df))"
   ]
  },
  {
   "cell_type": "markdown",
   "metadata": {},
   "source": [
    "### População inicial\n",
    "A população será criada chamando a inicialização aleatória de rotas."
   ]
  },
  {
   "cell_type": "code",
   "execution_count": 50,
   "metadata": {},
   "outputs": [],
   "source": [
    "def createPopulation(size):\n",
    "    population = []\n",
    "    \n",
    "    for i in range(size):\n",
    "        route_id = i\n",
    "        newRoute = createRoute()\n",
    "        distance = getDistance(newRoute, matrix)\n",
    "        fitness = getFitness(distance)\n",
    "        \n",
    "        population.append({\"ID\": route_id, \"Route\": newRoute, \"Distance\": distance, \"Fitness\": fitness})\n",
    "    \n",
    "    return population"
   ]
  },
  {
   "cell_type": "markdown",
   "metadata": {},
   "source": [
    "### Classificando os indivíduos\n",
    "Definir a classificação de cada rota, rotas com valores maiores de fitness estarão no início da lista de rotas."
   ]
  },
  {
   "cell_type": "code",
   "execution_count": 51,
   "metadata": {},
   "outputs": [],
   "source": [
    "def rank(population):\n",
    "    return sorted(population, key = lambda x : x['Fitness'], reverse = True)"
   ]
  },
  {
   "cell_type": "markdown",
   "metadata": {},
   "source": [
    "### Seleção dos pais\n",
    "Só os mais fortes sobrevivem, será utilizada a roleta ~russa~ para escolher os indivíduos que prosseguirão para o cruzamento, os ```eliteSize``` indivíduos com maior fitness são automaticamente escolhidos, enquanto que, o resto será escolhido de maneira aleatória, contudo, com chance maior para aqueles com um maior valor de fitness."
   ]
  },
  {
   "cell_type": "code",
   "execution_count": 52,
   "metadata": {},
   "outputs": [],
   "source": [
    "def selection(population, eliteSize):\n",
    "    selected = []\n",
    "    \n",
    "    candidates = pd.DataFrame([list(map(pop.get, ['ID', 'Fitness'])) for pop in population], columns = ['ID', 'Fitness'])\n",
    "    candidates['cum_sum'] = candidates['Fitness'].cumsum()\n",
    "    ## calcular o fitness relativo de cada individuo\n",
    "    candidates['cum_pct'] = 100 * candidates['cum_sum'] / candidates['Fitness'].sum()\n",
    "    \n",
    "    for i in range(eliteSize): # Elitismo\n",
    "        selected.append(population[i])\n",
    "        \n",
    "    for i in range(len(population) - eliteSize):\n",
    "        pick = 100 * random.random()\n",
    "        for i in range(len(population)):\n",
    "            if pick <= candidates.iat[i, 3]:\n",
    "                selected.append(population[i])\n",
    "                break\n",
    "                \n",
    "    return selected"
   ]
  },
  {
   "cell_type": "markdown",
   "metadata": {},
   "source": [
    "### Cruzamento\n",
    "Geração de novos indivíduos a partir do cruzamento, uma faixa ```[min(geneA, geneB)..max(geneA, geneB)]``` do parente A será inserido no inicio do filho gerado, enquanto que aqueles pontos não contemplados pela faixa serão inseridos no filho conforme a ordem de visitação do parente B."
   ]
  },
  {
   "cell_type": "code",
   "execution_count": 53,
   "metadata": {},
   "outputs": [],
   "source": [
    "def breed(a, b):\n",
    "    childA = []\n",
    "    childB = []\n",
    "    \n",
    "    geneA = int(random.random() * len(a))\n",
    "    geneB = int(random.random() * len(b))\n",
    "    \n",
    "    start = min(geneA, geneB)\n",
    "    end = max(geneA, geneB)\n",
    "    \n",
    "    for i in range(start, end):\n",
    "        childA.append(a[i])\n",
    "        \n",
    "    childB = [point for point in b if point not in childA]\n",
    "    \n",
    "    return (childA + childB)"
   ]
  },
  {
   "cell_type": "markdown",
   "metadata": {},
   "source": [
    "A próxima geração conterá ```eliteSize``` indivíduos, justamente aqueles com o maior fitness, que serão copiados da geração atual, enquanto que o resto da população será criada a partir do cruzamento entre dois pais aleatórios do chamado pool de procriação."
   ]
  },
  {
   "cell_type": "code",
   "execution_count": 54,
   "metadata": {},
   "outputs": [],
   "source": [
    "def createOffspring(population, eliteSize):\n",
    "    childs = []\n",
    "    pool = random.sample(population, len(population))\n",
    "    \n",
    "    for i in range(eliteSize):\n",
    "        childs.append(pool[i])\n",
    "        \n",
    "    for i in range(0, len(population) - eliteSize):\n",
    "        route_id = len(childs)\n",
    "        newRoute = breed(pool[i]['Route'], pool[len(population) - i - 1]['Route'])\n",
    "        distance = getDistance(newRoute, matrix)\n",
    "        fitness = getFitness(distance)\n",
    "        childs.append({\"ID\": route_id, \"Route\": newRoute, \"Distance\": distance, \"Fitness\": fitness})\n",
    "        \n",
    "    return childs"
   ]
  },
  {
   "cell_type": "markdown",
   "metadata": {},
   "source": [
    "### Mutação\n",
    "Troca a ordem de visitação de dois pontos, qualquer indivíduo da população pode sofrer uma mutação, a frequência desta dependerá do parâmetro rate."
   ]
  },
  {
   "cell_type": "code",
   "execution_count": 55,
   "metadata": {},
   "outputs": [],
   "source": [
    "def mutation(route, rate):\n",
    "    for swapped in range(len(route)):\n",
    "        if(random.random() < rate):\n",
    "            toSwap = int(random.random() * len(route))\n",
    "            \n",
    "            aux = route[toSwap]\n",
    "            route[toSwap] = route[swapped]\n",
    "            route[swapped] = aux\n",
    "            \n",
    "    return route"
   ]
  },
  {
   "cell_type": "code",
   "execution_count": 56,
   "metadata": {},
   "outputs": [],
   "source": [
    "def mutatePopulation(population, rate):\n",
    "    mutated = []\n",
    "    \n",
    "    for i in range(len(population)):\n",
    "        route_id = len(mutated)\n",
    "        newRoute = mutation(population[i]['Route'], rate)\n",
    "        distance = getDistance(newRoute, matrix)\n",
    "        fitness = getFitness(distance)\n",
    "        mutated.append({\"ID\": route_id, \"Route\": newRoute, \"Distance\": distance, \"Fitness\": fitness})\n",
    "        \n",
    "    return mutated"
   ]
  },
  {
   "cell_type": "markdown",
   "metadata": {},
   "source": [
    "### Próxima geração"
   ]
  },
  {
   "cell_type": "markdown",
   "metadata": {},
   "source": [
    "Classificar a população, selecionar aqueles que irão se cruzar, criar a nova geração e mutação."
   ]
  },
  {
   "cell_type": "code",
   "execution_count": 57,
   "metadata": {},
   "outputs": [],
   "source": [
    "def nextGeneration(currentGeneration, eliteSize, mutationRate):\n",
    "    ranked = rank(currentGeneration)\n",
    "    selected = selection(ranked, eliteSize)\n",
    "    child = createOffspring(selected, eliteSize)\n",
    "    \n",
    "    return mutatePopulation(child, mutationRate)"
   ]
  },
  {
   "cell_type": "markdown",
   "metadata": {},
   "source": [
    "### Juntando tudo\n",
    "O critério de parada para o algoritmo será generations, isto é, o algoritmo permanecerá executando enquanto que a o número da geração atual for menor que generations."
   ]
  },
  {
   "cell_type": "code",
   "execution_count": 58,
   "metadata": {},
   "outputs": [],
   "source": [
    "def geneticAlgorithm(popSize, eliteSize, mutationRate, generations, showResults = False):\n",
    "    pops = createPopulation(popSize)\n",
    "    results = []\n",
    "    \n",
    "    if showResults is True:\n",
    "        best = rank(pops)[0]['Distance']\n",
    "        print(\"Initial distance: \" + str(best))\n",
    "        results.append({\"Generation\": 0, \"Distance\": best})\n",
    "        \n",
    "    for i in range(generations):\n",
    "        pops = nextGeneration(pops, eliteSize, mutationRate)\n",
    "        if showResults is True:\n",
    "            best = rank(pops)[0]['Distance']\n",
    "            results.append({\"Generation\": i + 1, \"Distance\": best})\n",
    "            \n",
    "    if showResults is True:\n",
    "        best = rank(pops)[0]['Distance']\n",
    "        print(\"Final distance: \" + str(best))\n",
    "        results.append({\"Generation\": generations + 1, \"Distance\": best})\n",
    "        \n",
    "    return (rank(pops), results)"
   ]
  },
  {
   "cell_type": "markdown",
   "metadata": {},
   "source": [
    "## Executando o algoritmo e analisando os resultados\n",
    "\n",
    "Executando com um tamanho de população igual a 100, elitismo igual a 25, chance de mutação igual a 0,01% e 500 gerações."
   ]
  },
  {
   "cell_type": "code",
   "execution_count": 59,
   "metadata": {},
   "outputs": [
    {
     "name": "stdout",
     "output_type": "stream",
     "text": [
      "Initial distance: 573.6047917085448\n",
      "Final distance: 354.8370063439344\n"
     ]
    },
    {
     "data": {
      "text/plain": [
       "<matplotlib.axes._subplots.AxesSubplot at 0x12d941210>"
      ]
     },
     "execution_count": 59,
     "metadata": {},
     "output_type": "execute_result"
    },
    {
     "data": {
      "image/png": "[encoded data removed]",
      "text/plain": [
       "<Figure size 1152x576 with 1 Axes>"
      ]
     },
     "metadata": {},
     "output_type": "display_data"
    }
   ],
   "source": [
    "f, results = geneticAlgorithm(100, 25, 0.0001, 500, showResults = True)\n",
    "pd.DataFrame(results).plot.line(x = \"Generation\",\n",
    "                                y = \"Distance\")"
   ]
  },
  {
   "cell_type": "markdown",
   "metadata": {},
   "source": [
    "Até a geração de aproximadamente 200 o gráfico do custo da melhor solução naquela geração cai, sendo a queda maior nas primeiras gerações.\n",
    "\n",
    "Contudo, após esse ponto, é possível observar que o custo da melhor solução acabou por aumentar.  \n",
    "\n",
    "Além disso, é possível ver alguns saltos consideráveis (em termos absolutos) entre gerações.\n",
    "\n",
    "É possível que uma mutação tenha acarretado na qual um indivíduo com uma boa solução perto da geração 200 tenha se transformado em uma má solução, além de que os cruzamentos não conseguiram gerar indivíduos melhores, além da geração 200. \n",
    "\n",
    "Desta vez, o algoritmo visitou Chernobyl e aumentou a chance de mutação de um indivíduo para 10%:"
   ]
  },
  {
   "cell_type": "code",
   "execution_count": 60,
   "metadata": {},
   "outputs": [
    {
     "name": "stdout",
     "output_type": "stream",
     "text": [
      "Initial distance: 593.4804307238585\n",
      "Final distance: 547.3770509220778\n"
     ]
    },
    {
     "data": {
      "text/plain": [
       "<matplotlib.axes._subplots.AxesSubplot at 0x1301d4650>"
      ]
     },
     "execution_count": 60,
     "metadata": {},
     "output_type": "execute_result"
    },
    {
     "data": {
      "image/png": "[encoded data removed]",
      "text/plain": [
       "<Figure size 1152x576 with 1 Axes>"
      ]
     },
     "metadata": {},
     "output_type": "display_data"
    }
   ],
   "source": [
    "f, results = geneticAlgorithm(100, 25, 0.1, 500, showResults = True)\n",
    "pd.DataFrame(results).plot.line(x = \"Generation\",\n",
    "                                y = \"Distance\")"
   ]
  },
  {
   "cell_type": "markdown",
   "metadata": {},
   "source": [
    "Nesta execução, não é possível ver uma convergência do gráfico de custos por cada geração.\n",
    "\n",
    "As mutações frequentes acabaram por não permitir que indivíduos com boas soluções mantivessem essas soluções por muitas gerações.\n",
    "\n",
    "Como resultado, o valor da solução vai depender muito da sorte, sendo mais viável contar com esta pra algo mais útil (e.g. loteria)\n",
    "\n",
    "O algoritmo decidiu virar mais elitista, e manteve os 50 melhores indivíduos da população:"
   ]
  },
  {
   "cell_type": "code",
   "execution_count": 61,
   "metadata": {},
   "outputs": [
    {
     "name": "stdout",
     "output_type": "stream",
     "text": [
      "Initial distance: 581.5060129040551\n",
      "Final distance: 226.29391198414226\n"
     ]
    },
    {
     "data": {
      "text/plain": [
       "<matplotlib.axes._subplots.AxesSubplot at 0x12da23490>"
      ]
     },
     "execution_count": 61,
     "metadata": {},
     "output_type": "execute_result"
    },
    {
     "data": {
      "image/png": "[encoded data removed]",
      "text/plain": [
       "<Figure size 1152x576 with 1 Axes>"
      ]
     },
     "metadata": {},
     "output_type": "display_data"
    }
   ],
   "source": [
    "f, results = geneticAlgorithm(100, 50, 0.0001, 500, showResults = True)\n",
    "pd.DataFrame(results).plot.line(x = \"Generation\",\n",
    "                                y = \"Distance\")"
   ]
  },
  {
   "cell_type": "markdown",
   "metadata": {},
   "source": [
    "A curva do gráfico é bastante semelhante àquela observada na primeira execução, contudo depois da geração 200 os valores do melhor indivíduo não aumentam.\n",
    "\n",
    "É possível ver que após a geração de aproximadamente 200, o custo da solução converge lentamente para cerca de 230 Km.\n",
    "\n",
    "Além disso, também há uma menor diferença entre o custo de cada melhor solução entre gerações consecutivas.\n",
    "\n",
    "Aumentar o elitismo acarretou em mais indivíduos com boas soluções serem mantidos em gerações futuras, assim diminuindo a chance de haverem más soluções na população, sejam estas geradas pelo cruzamento ou mutação."
   ]
  },
  {
   "cell_type": "markdown",
   "metadata": {},
   "source": [
    "## Conclusão\n",
    "\n",
    "A partir do nosso trabalho, podemos adicionar a funcionalidade de poder informar a classificação dos pontos, segundo o TripAdvisor, ao usuário.\n",
    "\n",
    "Para o projeto ter uma melhor usabilidade poderia ser transformado em uma aplicação web ou móvel. Nesta aplicação o usuário irá escolher os pontos turísticos da cidade que quer visitar, e será mostrado a  melhor rota para visitar todos os pontos.  \n",
    "\n",
    "Ainda, poderia ser feita uma IA para escolher um conjunto de pontos turísticos e utilizar o algoritmo para encontrar o menor caminho entre eles."
   ]
  }
 ],
 "metadata": {
  "colab": {
   "collapsed_sections": [],
   "name": "iaTrab.ipynb",
   "provenance": []
  },
  "kernelspec": {
   "display_name": "Python 3",
   "language": "python",
   "name": "python3"
  },
  "language_info": {
   "codemirror_mode": {
    "name": "ipython",
    "version": 3
   },
   "file_extension": ".py",
   "mimetype": "text/x-python",
   "name": "python",
   "nbconvert_exporter": "python",
   "pygments_lexer": "ipython3",
   "version": "3.7.4"
  }
 },
 "nbformat": 4,
 "nbformat_minor": 1
}
