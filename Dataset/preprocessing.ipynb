{
 "cells": [
  {
   "cell_type": "code",
   "execution_count": 1,
   "metadata": {},
   "outputs": [
    {
     "data": {
      "text/html": [
       "<div>\n",
       "<style scoped>\n",
       "    .dataframe tbody tr th:only-of-type {\n",
       "        vertical-align: middle;\n",
       "    }\n",
       "\n",
       "    .dataframe tbody tr th {\n",
       "        vertical-align: top;\n",
       "    }\n",
       "\n",
       "    .dataframe thead th {\n",
       "        text-align: right;\n",
       "    }\n",
       "</style>\n",
       "<table border=\"1\" class=\"dataframe\">\n",
       "  <thead>\n",
       "    <tr style=\"text-align: right;\">\n",
       "      <th></th>\n",
       "      <th>Ref</th>\n",
       "      <th>Name</th>\n",
       "      <th>Category</th>\n",
       "      <th>Address</th>\n",
       "      <th>Days</th>\n",
       "      <th>Hours</th>\n",
       "      <th>Number of Reviews</th>\n",
       "      <th>Rating</th>\n",
       "      <th>Excellent</th>\n",
       "      <th>Very Good</th>\n",
       "      <th>Average</th>\n",
       "      <th>Poor</th>\n",
       "      <th>Terrible</th>\n",
       "      <th>Certified</th>\n",
       "    </tr>\n",
       "  </thead>\n",
       "  <tbody>\n",
       "    <tr>\n",
       "      <td>0</td>\n",
       "      <td>/Attraction_Review-g303631-d311966-Reviews-Par...</td>\n",
       "      <td>Parque Ibirapuera</td>\n",
       "      <td>Natureza e parques</td>\n",
       "      <td>Av. Pedro Álvares Cabral | Vila Mariana, São P...</td>\n",
       "      <td>Dom - Sáb</td>\n",
       "      <td>05:00 - 00:00</td>\n",
       "      <td>36.534</td>\n",
       "      <td>4,5</td>\n",
       "      <td>65%</td>\n",
       "      <td>29%</td>\n",
       "      <td>4%</td>\n",
       "      <td>1%</td>\n",
       "      <td>1%</td>\n",
       "      <td>True</td>\n",
       "    </tr>\n",
       "    <tr>\n",
       "      <td>1</td>\n",
       "      <td>/Attraction_Review-g303631-d550339-Reviews-Pau...</td>\n",
       "      <td>Avenida Paulista</td>\n",
       "      <td>Pontos turísticos e de interesse</td>\n",
       "      <td>Av. Paulista, São Paulo, Estado de São Paulo 0...</td>\n",
       "      <td>NaN</td>\n",
       "      <td>NaN</td>\n",
       "      <td>29.104</td>\n",
       "      <td>4,5</td>\n",
       "      <td>62%</td>\n",
       "      <td>29%</td>\n",
       "      <td>7%</td>\n",
       "      <td>1%</td>\n",
       "      <td>1%</td>\n",
       "      <td>True</td>\n",
       "    </tr>\n",
       "    <tr>\n",
       "      <td>2</td>\n",
       "      <td>/Attraction_Review-g303631-d4377562-Reviews-Co...</td>\n",
       "      <td>Arena Corinthians</td>\n",
       "      <td>Pontos turísticos e de interesse</td>\n",
       "      <td>Avenida Miguel Ignacio Curi, 111 | Itaquera, S...</td>\n",
       "      <td>Dom - Sáb</td>\n",
       "      <td>09:30 - 16:30</td>\n",
       "      <td>4.423</td>\n",
       "      <td>4,5</td>\n",
       "      <td>81%</td>\n",
       "      <td>14%</td>\n",
       "      <td>3%</td>\n",
       "      <td>1%</td>\n",
       "      <td>1%</td>\n",
       "      <td>True</td>\n",
       "    </tr>\n",
       "    <tr>\n",
       "      <td>3</td>\n",
       "      <td>/Attraction_Review-g303631-d2349915-Reviews-Al...</td>\n",
       "      <td>Allianz Parque</td>\n",
       "      <td>Pontos turísticos e de interesse</td>\n",
       "      <td>Avenida Francisco Matarazzo 1705 | Água Branca...</td>\n",
       "      <td>Dom - Sáb</td>\n",
       "      <td>10:00 - 17:00</td>\n",
       "      <td>5.138</td>\n",
       "      <td>4,5</td>\n",
       "      <td>74%</td>\n",
       "      <td>21%</td>\n",
       "      <td>3%</td>\n",
       "      <td>1%</td>\n",
       "      <td>1%</td>\n",
       "      <td>True</td>\n",
       "    </tr>\n",
       "    <tr>\n",
       "      <td>4</td>\n",
       "      <td>/Attraction_Review-g303631-d1407969-Reviews-Mu...</td>\n",
       "      <td>Museu do Futebol</td>\n",
       "      <td>Museus</td>\n",
       "      <td>Praça Charles Miller, S/N | Estádio do Pacaemb...</td>\n",
       "      <td>Ter - Dom</td>\n",
       "      <td>09:00 - 17:00</td>\n",
       "      <td>9.404</td>\n",
       "      <td>4,5</td>\n",
       "      <td>61%</td>\n",
       "      <td>32%</td>\n",
       "      <td>5%</td>\n",
       "      <td>1%</td>\n",
       "      <td>1%</td>\n",
       "      <td>True</td>\n",
       "    </tr>\n",
       "  </tbody>\n",
       "</table>\n",
       "</div>"
      ],
      "text/plain": [
       "                                                 Ref               Name  \\\n",
       "0  /Attraction_Review-g303631-d311966-Reviews-Par...  Parque Ibirapuera   \n",
       "1  /Attraction_Review-g303631-d550339-Reviews-Pau...   Avenida Paulista   \n",
       "2  /Attraction_Review-g303631-d4377562-Reviews-Co...  Arena Corinthians   \n",
       "3  /Attraction_Review-g303631-d2349915-Reviews-Al...     Allianz Parque   \n",
       "4  /Attraction_Review-g303631-d1407969-Reviews-Mu...   Museu do Futebol   \n",
       "\n",
       "                           Category  \\\n",
       "0                Natureza e parques   \n",
       "1  Pontos turísticos e de interesse   \n",
       "2  Pontos turísticos e de interesse   \n",
       "3  Pontos turísticos e de interesse   \n",
       "4                            Museus   \n",
       "\n",
       "                                             Address       Days  \\\n",
       "0  Av. Pedro Álvares Cabral | Vila Mariana, São P...  Dom - Sáb   \n",
       "1  Av. Paulista, São Paulo, Estado de São Paulo 0...        NaN   \n",
       "2  Avenida Miguel Ignacio Curi, 111 | Itaquera, S...  Dom - Sáb   \n",
       "3  Avenida Francisco Matarazzo 1705 | Água Branca...  Dom - Sáb   \n",
       "4  Praça Charles Miller, S/N | Estádio do Pacaemb...  Ter - Dom   \n",
       "\n",
       "           Hours  Number of Reviews Rating Excellent Very Good Average Poor  \\\n",
       "0  05:00 - 00:00             36.534    4,5       65%       29%      4%   1%   \n",
       "1            NaN             29.104    4,5       62%       29%      7%   1%   \n",
       "2  09:30 - 16:30              4.423    4,5       81%       14%      3%   1%   \n",
       "3  10:00 - 17:00              5.138    4,5       74%       21%      3%   1%   \n",
       "4  09:00 - 17:00              9.404    4,5       61%       32%      5%   1%   \n",
       "\n",
       "  Terrible  Certified  \n",
       "0       1%       True  \n",
       "1       1%       True  \n",
       "2       1%       True  \n",
       "3       1%       True  \n",
       "4       1%       True  "
      ]
     },
     "execution_count": 1,
     "metadata": {},
     "output_type": "execute_result"
    }
   ],
   "source": [
    "import pandas as pd\n",
    "import numpy as np\n",
    "import statistics as st\n",
    "import matplotlib.pyplot as plt\n",
    "import plotly.express as px\n",
    "from sklearn import preprocessing\n",
    "from sklearn.preprocessing import RobustScaler\n",
    "from sklearn.decomposition import PCA\n",
    "\n",
    "df = pd.read_csv('Sao_Paulo_State_of_Sao_Paulo.csv', delimiter=\",\", encoding = 'cp1252')\n",
    "\n",
    "df.head()"
   ]
  },
  {
   "cell_type": "markdown",
   "metadata": {},
   "source": [
    "## Pré processamento\n",
    "\n",
    "### Remoção de atributos irrelevantes\n",
    "\n",
    "Inicialmente o atributo Ref foi eliminado, pois este possuia utilidade durante o processo de coleta de dados pois era utilizado para obter informações individuais sobre as atrações nas suas respectivas páginas no TripAdvisor, não tendo uso prático para a análise dos dados."
   ]
  },
  {
   "cell_type": "code",
   "execution_count": 2,
   "metadata": {},
   "outputs": [],
   "source": [
    "df = df.drop(columns = ['Ref'])"
   ]
  },
  {
   "cell_type": "markdown",
   "metadata": {},
   "source": [
    "### Tratamento de dados ausentes\n",
    "Verificar quais atributos possuem entradas com valores ausentes."
   ]
  },
  {
   "cell_type": "code",
   "execution_count": 3,
   "metadata": {},
   "outputs": [
    {
     "data": {
      "text/plain": [
       "Name                   0\n",
       "Category              15\n",
       "Address                0\n",
       "Days                 467\n",
       "Hours                467\n",
       "Number of Reviews      0\n",
       "Rating                 0\n",
       "Excellent              0\n",
       "Very Good              0\n",
       "Average                0\n",
       "Poor                   0\n",
       "Terrible               0\n",
       "Certified              0\n",
       "dtype: int64"
      ]
     },
     "execution_count": 3,
     "metadata": {},
     "output_type": "execute_result"
    }
   ],
   "source": [
    "df.isnull().sum()"
   ]
  },
  {
   "cell_type": "markdown",
   "metadata": {},
   "source": [
    "Alguns pontos não possuem categoria, nesse caso foi optado por substituir o dado ausente por um valor indicando a falta de categoria."
   ]
  },
  {
   "cell_type": "code",
   "execution_count": 4,
   "metadata": {},
   "outputs": [],
   "source": [
    "df['Category'].fillna(\"Sem categoria\", inplace = True)"
   ]
  },
  {
   "cell_type": "markdown",
   "metadata": {},
   "source": [
    "### Tratamento de dados duplicados"
   ]
  },
  {
   "cell_type": "code",
   "execution_count": 5,
   "metadata": {},
   "outputs": [],
   "source": [
    "df = df.drop_duplicates(['Name', 'Address'])"
   ]
  },
  {
   "cell_type": "markdown",
   "metadata": {},
   "source": [
    "## Conversão de atributos não numéricos\n",
    "\n",
    "One hot encoding para o atributo 'Category'"
   ]
  },
  {
   "cell_type": "code",
   "execution_count": 5,
   "metadata": {},
   "outputs": [],
   "source": [
    "oh = pd.get_dummies(df['Category'])\n",
    "\n",
    "df = df.drop(columns = ['Category'])\n",
    "\n",
    "df = df.join(oh)"
   ]
  },
  {
   "cell_type": "markdown",
   "metadata": {},
   "source": [
    "Obtenção dos tipos dos atributos da base de dados."
   ]
  },
  {
   "cell_type": "code",
   "execution_count": 11,
   "metadata": {},
   "outputs": [
    {
     "name": "stdout",
     "output_type": "stream",
     "text": [
      "<class 'pandas.core.frame.DataFrame'>\n",
      "RangeIndex: 644 entries, 0 to 643\n",
      "Data columns (total 83 columns):\n",
      "Name                                644 non-null object\n",
      "Address                             644 non-null object\n",
      "Days                                177 non-null object\n",
      "Hours                               177 non-null object\n",
      "Number of Reviews                   644 non-null float64\n",
      "Rating                              644 non-null float64\n",
      "Excellent                           644 non-null float64\n",
      "Very Good                           644 non-null float64\n",
      "Average                             644 non-null float64\n",
      "Poor                                644 non-null float64\n",
      "Terrible                            644 non-null float64\n",
      "Certified                           644 non-null bool\n",
      "Antiquários                         644 non-null uint8\n",
      "Arenas e estádios                   644 non-null uint8\n",
      "Atividades ao ar livre              644 non-null uint8\n",
      "Autódromos                          644 non-null uint8\n",
      "Bairros                             644 non-null uint8\n",
      "Bibliotecas                         644 non-null uint8\n",
      "Cabarés                             644 non-null uint8\n",
      "Cachoeiras                          644 non-null uint8\n",
      "Cassinos                            644 non-null uint8\n",
      "Cemitérios                          644 non-null uint8\n",
      "Centros cívicos                     644 non-null uint8\n",
      "Cervejarias                         644 non-null uint8\n",
      "Clínicas e quadras esportivas       644 non-null uint8\n",
      "Complexos esportivos                644 non-null uint8\n",
      "Compras                             644 non-null uint8\n",
      "Concertos e shows                   644 non-null uint8\n",
      "Diversão e jogos                    644 non-null uint8\n",
      "Eventos culturais                   644 non-null uint8\n",
      "Eventos esportivos                  644 non-null uint8\n",
      "Fazendas                            644 non-null uint8\n",
      "Feiras e mercados de pulgas         644 non-null uint8\n",
      "Feiras livres                       644 non-null uint8\n",
      "Festivais de música                 644 non-null uint8\n",
      "Florestas                           644 non-null uint8\n",
      "Galerias de arte                    644 non-null uint8\n",
      "Gastronomia                         644 non-null uint8\n",
      "Hipódromos                          644 non-null uint8\n",
      "Igrejas e catedrais                 644 non-null uint8\n",
      "Jardins                             644 non-null uint8\n",
      "Locais educativos                   644 non-null uint8\n",
      "Locais históricos                   644 non-null uint8\n",
      "Locais religiosos e sagrados        644 non-null uint8\n",
      "Lojas de departamento               644 non-null uint8\n",
      "Lojas outlet                        644 non-null uint8\n",
      "Massas de água                      644 non-null uint8\n",
      "Monumentos e estátuas               644 non-null uint8\n",
      "Museus                              644 non-null uint8\n",
      "Museus de arte                      644 non-null uint8\n",
      "Museus de ciência                   644 non-null uint8\n",
      "Museus de história                  644 non-null uint8\n",
      "Museus especializados               644 non-null uint8\n",
      "Museus infantis                     644 non-null uint8\n",
      "Museus militares                    644 non-null uint8\n",
      "Natureza e parques                  644 non-null uint8\n",
      "Natureza e vida selvagem            644 non-null uint8\n",
      "Obras arquitetônicas                644 non-null uint8\n",
      "Observatórios e planetários         644 non-null uint8\n",
      "Outro                               644 non-null uint8\n",
      "Parques                             644 non-null uint8\n",
      "Parques aquáticos                   644 non-null uint8\n",
      "Parques de diversões e aquáticos    644 non-null uint8\n",
      "Parques públicos                    644 non-null uint8\n",
      "Parques temáticos                   644 non-null uint8\n",
      "Pistas e trilhas para corrida       644 non-null uint8\n",
      "Playgrounds                         644 non-null uint8\n",
      "Pontes                              644 non-null uint8\n",
      "Pontos de interesse                 644 non-null uint8\n",
      "Pontos turísticos e de interesse    644 non-null uint8\n",
      "Praias                              644 non-null uint8\n",
      "Prédios públicos                    644 non-null uint8\n",
      "Sem categoria                       644 non-null uint8\n",
      "Shopping centers                    644 non-null uint8\n",
      "Sistemas de transporte de massa     644 non-null uint8\n",
      "Teatros                             644 non-null uint8\n",
      "Trilhas panorâmicas                 644 non-null uint8\n",
      "Trilhas para caminhada              644 non-null uint8\n",
      "Trilhas para ciclismo               644 non-null uint8\n",
      "Universidades e escolas             644 non-null uint8\n",
      "Zoológicos                          644 non-null uint8\n",
      "Zoológicos e aquários               644 non-null uint8\n",
      "Áreas históricas para caminhadas    644 non-null uint8\n",
      "dtypes: bool(1), float64(7), object(4), uint8(71)\n",
      "memory usage: 100.8+ KB\n"
     ]
    }
   ],
   "source": [
    "df.info()"
   ]
  },
  {
   "cell_type": "markdown",
   "metadata": {},
   "source": [
    "Por algum motivo o TripAdvisor usa o caractere ',' para marcar o ponto decimal na nota das avaliações, porém como as notas são estão entre 0,0 e 5,0 espaçados por 0,5 é algo simples fazer a transformação desses dados."
   ]
  },
  {
   "cell_type": "code",
   "execution_count": 7,
   "metadata": {},
   "outputs": [
    {
     "name": "stdout",
     "output_type": "stream",
     "text": [
      "['4,5' '4,0' '5,0' '3,5' '3,0' '2,5' '2,0' '1,5' '1,0']\n"
     ]
    }
   ],
   "source": [
    "print(df['Rating'].unique())"
   ]
  },
  {
   "cell_type": "code",
   "execution_count": 8,
   "metadata": {},
   "outputs": [],
   "source": [
    "norm_ratings = {\n",
    "    '5,0': 1.0,\n",
    "    '4,5': 0.9,\n",
    "    '4,0': 0.8,\n",
    "    '3,5': 0.7,\n",
    "    '3,0': 0.6,\n",
    "    '2,5': 0.5,\n",
    "    '2,0': 0.4,\n",
    "    '1,5': 0.3,\n",
    "    '1,0': 0.2,\n",
    "    '0,5': 0.1,\n",
    "    '0,0': 0.0\n",
    "}\n",
    "\n",
    "df['Rating'] = df['Rating'].apply(lambda rating: norm_ratings[rating])"
   ]
  },
  {
   "cell_type": "markdown",
   "metadata": {},
   "source": [
    "No caso da distribuição das avaliações o valores estão no formato XX% sendo também necessário uma transformação (nesse caso para algo entre 0 e 1)."
   ]
  },
  {
   "cell_type": "code",
   "execution_count": 10,
   "metadata": {},
   "outputs": [],
   "source": [
    "df['Excellent'] = df['Excellent'].apply(lambda exc: float(int(exc.replace('%', '')) / 100))\n",
    "df['Very Good'] = df['Very Good'].apply(lambda vg: float(int(vg.replace('%', '')) / 100))\n",
    "df['Average'] = df['Average'].apply(lambda avg: float(int(avg.replace('%', '')) / 100))\n",
    "df['Poor'] = df['Poor'].apply(lambda poor: float(int(poor.replace('%', '')) / 100))\n",
    "df['Terrible'] = df['Terrible'].apply(lambda ter: float(int(ter.replace('%', '')) / 100))"
   ]
  },
  {
   "cell_type": "markdown",
   "metadata": {},
   "source": [
    "## Usando K-NN pra (tentar) inferir se uma atração é certificada ou não"
   ]
  },
  {
   "cell_type": "code",
   "execution_count": 13,
   "metadata": {},
   "outputs": [],
   "source": [
    "import matplotlib.pyplot as plt\n",
    "from sklearn import cluster, neighbors, svm, metrics, preprocessing"
   ]
  },
  {
   "cell_type": "code",
   "execution_count": 12,
   "metadata": {},
   "outputs": [],
   "source": [
    "df = df.drop(columns = ['Name', 'Address', 'Days', 'Hours'])"
   ]
  },
  {
   "cell_type": "code",
   "execution_count": 20,
   "metadata": {},
   "outputs": [],
   "source": [
    "trainSample = df.sample(frac = 0.5, random_state = 1) # 80 / 20\n",
    "\n",
    "testSample = pd.concat([df, trainSample]).drop_duplicates(keep=False)\n",
    "trainTarget = trainSample[\"Certified\"]\n",
    "testTarget = testSample[\"Certified\"]\n",
    "\n",
    "\n",
    "del testSample[\"Certified\"]\n",
    "del trainSample[\"Certified\"]"
   ]
  },
  {
   "cell_type": "code",
   "execution_count": 21,
   "metadata": {},
   "outputs": [],
   "source": [
    "knn = neighbors.KNeighborsClassifier(n_neighbors= 3, algorithm=\"auto\") #k vizinhos mais próximos = n_neighbors\n",
    "knn.fit(trainSample, trainTarget)\n",
    "resultKNN = knn.predict(testSample)"
   ]
  },
  {
   "cell_type": "code",
   "execution_count": 22,
   "metadata": {},
   "outputs": [
    {
     "name": "stdout",
     "output_type": "stream",
     "text": [
      "\n",
      "K-NN\n",
      "Acurácia: 0.87\n",
      "Matriz de Confusão:\n",
      " [[237  15]\n",
      " [ 24  25]]\n"
     ]
    }
   ],
   "source": [
    "print(\"\\nK-NN\")\n",
    "print(\"Acurácia: %0.2f\" % (metrics.accuracy_score(testTarget, resultKNN)))\n",
    "\n",
    "\n",
    "matrizConfusao = metrics.confusion_matrix(testTarget, resultKNN)\n",
    "print(\"Matriz de Confusão:\\n\",matrizConfusao)"
   ]
  },
  {
   "cell_type": "code",
   "execution_count": null,
   "metadata": {},
   "outputs": [],
   "source": []
  }
 ],
 "metadata": {
  "kernelspec": {
   "display_name": "Python 3",
   "language": "python",
   "name": "python3"
  },
  "language_info": {
   "codemirror_mode": {
    "name": "ipython",
    "version": 3
   },
   "file_extension": ".py",
   "mimetype": "text/x-python",
   "name": "python",
   "nbconvert_exporter": "python",
   "pygments_lexer": "ipython3",
   "version": "3.7.4"
  }
 },
 "nbformat": 4,
 "nbformat_minor": 2
}
